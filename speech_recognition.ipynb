{
 "cells": [
  {
   "cell_type": "code",
   "execution_count": null,
   "metadata": {},
   "outputs": [
    {
     "name": "stdout",
     "output_type": "stream",
     "text": [
      "[search google:search youtube]\n",
      "search now\n"
     ]
    }
   ],
   "source": [
    "import speech_recognition as sr\n",
    "import webbrowser as wb\n",
    "\n",
    "r1= sr.Recognizer()\n",
    "r2= sr.Recognizer()\n",
    "r3= sr.Recognizer()\n",
    "\n",
    "with sr.Microphone() as source:\n",
    "    print('[search google:search youtube]' )\n",
    "    print(\"search now\")\n",
    "    audio = r3.listen(source)\n",
    "    \n",
    "if 'Google' in r2.recognize_google(audio):\n",
    "    r2= sr.Recognizer()\n",
    "    url ='http://www.google.com/search?q='\n",
    "    with sr.Microphone() as source:\n",
    "        print(\"search your query\")\n",
    "        audio = r2.listen(source)\n",
    "        \n",
    "        \n",
    "    try :\n",
    "        get = r2.recognize_google(audio)\n",
    "        print('You said : '+get)\n",
    "        wb.get().open_new(url+get)\n",
    "    except sr.UnknownValueError : \n",
    "        print('Google Speech recognition not understand you, unknown error')\n",
    "    except sr.RequestError as e :\n",
    "        print('Request results from google speechrecognition service error' +e)\n",
    "        \n",
    "if 'youtube' in r1.recognize_google(audio):\n",
    "    r1= sr.Recognizer()\n",
    "    url ='https://www.youtube.com/search?q='\n",
    "    with sr.Microphone() as source:\n",
    "        print(\"search your query\")\n",
    "        audio = r1.listen(source)\n",
    "        \n",
    "        \n",
    "    try :\n",
    "        get = r1.recognize_google(audio)\n",
    "        print('You said : '+get)\n",
    "        wb.get().open_new(url+get)\n",
    "    except sr.UnknownValueError : \n",
    "        print('Google Speech recognition not undstand you, unknown error')\n",
    "    except sr.RequestError as e :\n",
    "        print('Request results from google speechrecognition service error' +e)"
   ]
  },
  {
   "cell_type": "code",
   "execution_count": null,
   "metadata": {},
   "outputs": [],
   "source": []
  }
 ],
 "metadata": {
  "kernelspec": {
   "display_name": "Python 3",
   "language": "python",
   "name": "python3"
  },
  "language_info": {
   "codemirror_mode": {
    "name": "ipython",
    "version": 3
   },
   "file_extension": ".py",
   "mimetype": "text/x-python",
   "name": "python",
   "nbconvert_exporter": "python",
   "pygments_lexer": "ipython3",
   "version": "3.8.5"
  }
 },
 "nbformat": 4,
 "nbformat_minor": 4
}
